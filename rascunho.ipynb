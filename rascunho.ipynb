{
  "nbformat": 4,
  "nbformat_minor": 0,
  "metadata": {
    "colab": {
      "provenance": [],
      "authorship_tag": "ABX9TyNRY8PK9iQ7AJNjV7AbugMn",
      "include_colab_link": true
    },
    "kernelspec": {
      "name": "python3",
      "display_name": "Python 3"
    },
    "language_info": {
      "name": "python"
    }
  },
  "cells": [
    {
      "cell_type": "markdown",
      "metadata": {
        "id": "view-in-github",
        "colab_type": "text"
      },
      "source": [
        "<a href=\"https://colab.research.google.com/github/eugenioboudaher/dio/blob/main/rascunho.ipynb\" target=\"_parent\"><img src=\"https://colab.research.google.com/assets/colab-badge.svg\" alt=\"Open In Colab\"/></a>"
      ]
    },
    {
      "cell_type": "code",
      "source": [
        "def square(x):\n",
        "  return x * x\n",
        "\n",
        "def cube(x):\n",
        "  return x * x * x\n",
        "\n",
        "\n",
        "def my_map(func, arg_list):\n",
        "  result = []\n",
        "  for i in arg_list:\n",
        "    result.append(func(i))\n",
        "  return result\n",
        "\n",
        "squares = my_map(square, [1, 2, 3, 4, 5, 6, 7])\n",
        "cubes = my_map(cube, [1, 2, 3, 4, 5, 6, 7])\n",
        "\n",
        "print(squares)\n",
        "print(cubes)\n",
        "\n",
        "\n"
      ],
      "metadata": {
        "colab": {
          "base_uri": "https://localhost:8080/"
        },
        "id": "lTLgPJ9dP7Od",
        "outputId": "861e441e-b55c-49df-d05f-dc2dd40cb019"
      },
      "execution_count": null,
      "outputs": [
        {
          "output_type": "stream",
          "name": "stdout",
          "text": [
            "[1, 4, 9, 16, 25, 36, 49]\n",
            "[1, 8, 27, 64, 125, 216, 343]\n"
          ]
        }
      ]
    },
    {
      "cell_type": "code",
      "source": [
        "def logger(msg):\n",
        "  def log_message():\n",
        "    print('Log:', msg)\n",
        "  return log_message\n",
        "\n",
        "log_hi = logger('Hi!')\n",
        "log_hi( )"
      ],
      "metadata": {
        "colab": {
          "base_uri": "https://localhost:8080/"
        },
        "id": "OBornb4AisGQ",
        "outputId": "5f878d2a-c208-4547-e452-12a8b65438fe"
      },
      "execution_count": null,
      "outputs": [
        {
          "output_type": "stream",
          "name": "stdout",
          "text": [
            "Log: Hi!\n"
          ]
        }
      ]
    },
    {
      "cell_type": "code",
      "source": [],
      "metadata": {
        "id": "-Orvd1eKjjSR"
      },
      "execution_count": null,
      "outputs": []
    }
  ]
}